{
 "cells": [
  {
   "cell_type": "code",
   "execution_count": 1,
   "metadata": {},
   "outputs": [
    {
     "name": "stderr",
     "output_type": "stream",
     "text": [
      "/Users/admin/opt/anaconda3/lib/python3.7/site-packages/pandas_datareader/compat/__init__.py:7: FutureWarning: pandas.util.testing is deprecated. Use the functions in the public API at pandas.testing instead.\n",
      "  from pandas.util.testing import assert_frame_equal\n"
     ]
    }
   ],
   "source": [
    "import pandas_datareader.data as web"
   ]
  },
  {
   "cell_type": "code",
   "execution_count": 2,
   "metadata": {},
   "outputs": [],
   "source": [
    "import pandas.testing"
   ]
  },
  {
   "cell_type": "code",
   "execution_count": 3,
   "metadata": {},
   "outputs": [],
   "source": [
    "import datetime"
   ]
  },
  {
   "cell_type": "code",
   "execution_count": 5,
   "metadata": {},
   "outputs": [],
   "source": [
    "start = datetime.datetime(2015, 1, 1)\n",
    "end = datetime.datetime(2017, 1, 1)\n"
   ]
  },
  {
   "cell_type": "code",
   "execution_count": 9,
   "metadata": {},
   "outputs": [],
   "source": [
    "facebook = web.DataReader('FB', 'yahoo', start, end)"
   ]
  },
  {
   "cell_type": "code",
   "execution_count": 10,
   "metadata": {},
   "outputs": [
    {
     "data": {
      "text/html": [
       "<div>\n",
       "<style scoped>\n",
       "    .dataframe tbody tr th:only-of-type {\n",
       "        vertical-align: middle;\n",
       "    }\n",
       "\n",
       "    .dataframe tbody tr th {\n",
       "        vertical-align: top;\n",
       "    }\n",
       "\n",
       "    .dataframe thead th {\n",
       "        text-align: right;\n",
       "    }\n",
       "</style>\n",
       "<table border=\"1\" class=\"dataframe\">\n",
       "  <thead>\n",
       "    <tr style=\"text-align: right;\">\n",
       "      <th></th>\n",
       "      <th>High</th>\n",
       "      <th>Low</th>\n",
       "      <th>Open</th>\n",
       "      <th>Close</th>\n",
       "      <th>Volume</th>\n",
       "      <th>Adj Close</th>\n",
       "    </tr>\n",
       "    <tr>\n",
       "      <th>Date</th>\n",
       "      <th></th>\n",
       "      <th></th>\n",
       "      <th></th>\n",
       "      <th></th>\n",
       "      <th></th>\n",
       "      <th></th>\n",
       "    </tr>\n",
       "  </thead>\n",
       "  <tbody>\n",
       "    <tr>\n",
       "      <th>2015-01-02</th>\n",
       "      <td>78.930000</td>\n",
       "      <td>77.699997</td>\n",
       "      <td>78.580002</td>\n",
       "      <td>78.449997</td>\n",
       "      <td>18177500</td>\n",
       "      <td>78.449997</td>\n",
       "    </tr>\n",
       "    <tr>\n",
       "      <th>2015-01-05</th>\n",
       "      <td>79.250000</td>\n",
       "      <td>76.860001</td>\n",
       "      <td>77.980003</td>\n",
       "      <td>77.190002</td>\n",
       "      <td>26452200</td>\n",
       "      <td>77.190002</td>\n",
       "    </tr>\n",
       "    <tr>\n",
       "      <th>2015-01-06</th>\n",
       "      <td>77.589996</td>\n",
       "      <td>75.360001</td>\n",
       "      <td>77.230003</td>\n",
       "      <td>76.150002</td>\n",
       "      <td>27399300</td>\n",
       "      <td>76.150002</td>\n",
       "    </tr>\n",
       "    <tr>\n",
       "      <th>2015-01-07</th>\n",
       "      <td>77.360001</td>\n",
       "      <td>75.820000</td>\n",
       "      <td>76.760002</td>\n",
       "      <td>76.150002</td>\n",
       "      <td>22045300</td>\n",
       "      <td>76.150002</td>\n",
       "    </tr>\n",
       "    <tr>\n",
       "      <th>2015-01-08</th>\n",
       "      <td>78.230003</td>\n",
       "      <td>76.080002</td>\n",
       "      <td>76.739998</td>\n",
       "      <td>78.180000</td>\n",
       "      <td>23961000</td>\n",
       "      <td>78.180000</td>\n",
       "    </tr>\n",
       "  </tbody>\n",
       "</table>\n",
       "</div>"
      ],
      "text/plain": [
       "                 High        Low       Open      Close    Volume  Adj Close\n",
       "Date                                                                       \n",
       "2015-01-02  78.930000  77.699997  78.580002  78.449997  18177500  78.449997\n",
       "2015-01-05  79.250000  76.860001  77.980003  77.190002  26452200  77.190002\n",
       "2015-01-06  77.589996  75.360001  77.230003  76.150002  27399300  76.150002\n",
       "2015-01-07  77.360001  75.820000  76.760002  76.150002  22045300  76.150002\n",
       "2015-01-08  78.230003  76.080002  76.739998  78.180000  23961000  78.180000"
      ]
     },
     "execution_count": 10,
     "metadata": {},
     "output_type": "execute_result"
    }
   ],
   "source": [
    "facebook.head()"
   ]
  },
  {
   "cell_type": "code",
   "execution_count": 13,
   "metadata": {},
   "outputs": [
    {
     "ename": "ImmediateDeprecationError",
     "evalue": "\nYahoo Options has been immediately deprecated due to large breaks in the API without the\nintroduction of a stable replacement. Pull Requests to re-enable these data\nconnectors are welcome.\n\nSee https://github.com/pydata/pandas-datareader/issues\n",
     "output_type": "error",
     "traceback": [
      "\u001b[0;31m---------------------------------------------------------------------------\u001b[0m",
      "\u001b[0;31mImmediateDeprecationError\u001b[0m                 Traceback (most recent call last)",
      "\u001b[0;32m<ipython-input-13-68795566b451>\u001b[0m in \u001b[0;36m<module>\u001b[0;34m\u001b[0m\n\u001b[1;32m      1\u001b[0m \u001b[0;32mfrom\u001b[0m \u001b[0mpandas_datareader\u001b[0m\u001b[0;34m.\u001b[0m\u001b[0mdata\u001b[0m \u001b[0;32mimport\u001b[0m \u001b[0mOptions\u001b[0m\u001b[0;34m\u001b[0m\u001b[0;34m\u001b[0m\u001b[0m\n\u001b[0;32m----> 2\u001b[0;31m \u001b[0mfb_options\u001b[0m \u001b[0;34m=\u001b[0m \u001b[0mOptions\u001b[0m\u001b[0;34m(\u001b[0m\u001b[0;34m\"FB\"\u001b[0m\u001b[0;34m,\u001b[0m \u001b[0;34m'yahoo'\u001b[0m\u001b[0;34m)\u001b[0m\u001b[0;34m\u001b[0m\u001b[0;34m\u001b[0m\u001b[0m\n\u001b[0m",
      "\u001b[0;32m~/opt/anaconda3/lib/python3.7/site-packages/pandas_datareader/data.py\u001b[0m in \u001b[0;36mOptions\u001b[0;34m(symbol, data_source, session)\u001b[0m\n\u001b[1;32m    677\u001b[0m         \u001b[0mdata_source\u001b[0m \u001b[0;34m=\u001b[0m \u001b[0;34m\"yahoo\"\u001b[0m\u001b[0;34m\u001b[0m\u001b[0;34m\u001b[0m\u001b[0m\n\u001b[1;32m    678\u001b[0m     \u001b[0;32mif\u001b[0m \u001b[0mdata_source\u001b[0m \u001b[0;34m==\u001b[0m \u001b[0;34m\"yahoo\"\u001b[0m\u001b[0;34m:\u001b[0m\u001b[0;34m\u001b[0m\u001b[0;34m\u001b[0m\u001b[0m\n\u001b[0;32m--> 679\u001b[0;31m         \u001b[0;32mraise\u001b[0m \u001b[0mImmediateDeprecationError\u001b[0m\u001b[0;34m(\u001b[0m\u001b[0mDEP_ERROR_MSG\u001b[0m\u001b[0;34m.\u001b[0m\u001b[0mformat\u001b[0m\u001b[0;34m(\u001b[0m\u001b[0;34m\"Yahoo Options\"\u001b[0m\u001b[0;34m)\u001b[0m\u001b[0;34m)\u001b[0m\u001b[0;34m\u001b[0m\u001b[0;34m\u001b[0m\u001b[0m\n\u001b[0m\u001b[1;32m    680\u001b[0m         \u001b[0;32mreturn\u001b[0m \u001b[0mYahooOptions\u001b[0m\u001b[0;34m(\u001b[0m\u001b[0msymbol\u001b[0m\u001b[0;34m,\u001b[0m \u001b[0msession\u001b[0m\u001b[0;34m=\u001b[0m\u001b[0msession\u001b[0m\u001b[0;34m)\u001b[0m\u001b[0;34m\u001b[0m\u001b[0;34m\u001b[0m\u001b[0m\n\u001b[1;32m    681\u001b[0m     \u001b[0;32melse\u001b[0m\u001b[0;34m:\u001b[0m\u001b[0;34m\u001b[0m\u001b[0;34m\u001b[0m\u001b[0m\n",
      "\u001b[0;31mImmediateDeprecationError\u001b[0m: \nYahoo Options has been immediately deprecated due to large breaks in the API without the\nintroduction of a stable replacement. Pull Requests to re-enable these data\nconnectors are welcome.\n\nSee https://github.com/pydata/pandas-datareader/issues\n"
     ]
    }
   ],
   "source": [
    "from pandas_datareader.data import Options\n",
    "fb_options = Options(\"FB\", 'yahoo')"
   ]
  },
  {
   "cell_type": "code",
   "execution_count": 30,
   "metadata": {},
   "outputs": [],
   "source": [
    "import pandas as pd\n",
    "class YahooDailyReader():\n",
    "    \n",
    "    def __init__(self, symbol=None, start=None, end=None):\n",
    "        import datetime, time\n",
    "        self.symbol = symbol\n",
    "        \n",
    "        # initialize start/end dates if not provided\n",
    "        if end is None:\n",
    "            end = datetime.datetime.today()\n",
    "        if start is None:\n",
    "            start = datetime.datetime(2010,1,1)\n",
    "        \n",
    "        self.start = start\n",
    "        self.end = end\n",
    "        \n",
    "        # convert dates to unix time strings\n",
    "        unix_start = int(time.mktime(self.start.timetuple()))\n",
    "        day_end = self.end.replace(hour=23, minute=59, second=59)\n",
    "        unix_end = int(time.mktime(day_end.timetuple()))\n",
    "        \n",
    "        url = 'https://finance.yahoo.com/quote/{}/history?'\n",
    "        url += 'period1={}&period2={}'\n",
    "        url += '&filter=history'\n",
    "        url += '&interval=1d'\n",
    "        url += '&frequency=1d'\n",
    "        self.url = url.format(self.symbol, unix_start, unix_end)\n",
    "        \n",
    "    def read(self):\n",
    "        import requests, re, json\n",
    "       \n",
    "        r = requests.get(self.url)\n",
    "        \n",
    "        ptrn = r'root\\.App\\.main = (.*?);\\n}\\(this\\)\\);'\n",
    "        txt = re.search(ptrn, r.text, re.DOTALL).group(1)\n",
    "        jsn = json.loads(txt)\n",
    "        df = pd.DataFrame(\n",
    "                jsn['context']['dispatcher']['stores']\n",
    "                ['HistoricalPriceStore']['prices']\n",
    "                )\n",
    "        df.insert(0, 'symbol', self.symbol)\n",
    "        df['date'] = pd.to_datetime(df['date'], unit='s').dt.date\n",
    "        \n",
    "        # drop rows that aren't prices\n",
    "        df = df.dropna(subset=['close'])\n",
    "        \n",
    "        df = df[['symbol', 'date', 'high', 'low', 'open', 'close', \n",
    "                 'volume', 'adjclose']]\n",
    "        df = df.set_index('symbol')\n",
    "        return df\n",
    "    \n",
    "ydr = YahooDailyReader('IBM')\n",
    "df = ydr.read()"
   ]
  },
  {
   "cell_type": "code",
   "execution_count": 42,
   "metadata": {},
   "outputs": [
    {
     "data": {
      "text/html": [
       "<div>\n",
       "<style scoped>\n",
       "    .dataframe tbody tr th:only-of-type {\n",
       "        vertical-align: middle;\n",
       "    }\n",
       "\n",
       "    .dataframe tbody tr th {\n",
       "        vertical-align: top;\n",
       "    }\n",
       "\n",
       "    .dataframe thead th {\n",
       "        text-align: right;\n",
       "    }\n",
       "</style>\n",
       "<table border=\"1\" class=\"dataframe\">\n",
       "  <thead>\n",
       "    <tr style=\"text-align: right;\">\n",
       "      <th></th>\n",
       "      <th>date</th>\n",
       "      <th>high</th>\n",
       "      <th>low</th>\n",
       "      <th>open</th>\n",
       "      <th>close</th>\n",
       "      <th>volume</th>\n",
       "      <th>adjclose</th>\n",
       "    </tr>\n",
       "    <tr>\n",
       "      <th>symbol</th>\n",
       "      <th></th>\n",
       "      <th></th>\n",
       "      <th></th>\n",
       "      <th></th>\n",
       "      <th></th>\n",
       "      <th></th>\n",
       "      <th></th>\n",
       "    </tr>\n",
       "  </thead>\n",
       "  <tbody>\n",
       "    <tr>\n",
       "      <th>IBM</th>\n",
       "      <td>2020-06-18</td>\n",
       "      <td>124.400002</td>\n",
       "      <td>122.330002</td>\n",
       "      <td>123.000000</td>\n",
       "      <td>124.160004</td>\n",
       "      <td>2861200.0</td>\n",
       "      <td>124.160004</td>\n",
       "    </tr>\n",
       "    <tr>\n",
       "      <th>IBM</th>\n",
       "      <td>2020-06-17</td>\n",
       "      <td>126.250000</td>\n",
       "      <td>123.400002</td>\n",
       "      <td>125.830002</td>\n",
       "      <td>124.150002</td>\n",
       "      <td>3154200.0</td>\n",
       "      <td>124.150002</td>\n",
       "    </tr>\n",
       "    <tr>\n",
       "      <th>IBM</th>\n",
       "      <td>2020-06-16</td>\n",
       "      <td>127.500000</td>\n",
       "      <td>123.160004</td>\n",
       "      <td>125.000000</td>\n",
       "      <td>125.150002</td>\n",
       "      <td>5606700.0</td>\n",
       "      <td>125.150002</td>\n",
       "    </tr>\n",
       "    <tr>\n",
       "      <th>IBM</th>\n",
       "      <td>2020-06-15</td>\n",
       "      <td>122.370003</td>\n",
       "      <td>118.290001</td>\n",
       "      <td>119.190002</td>\n",
       "      <td>121.650002</td>\n",
       "      <td>5149100.0</td>\n",
       "      <td>121.650002</td>\n",
       "    </tr>\n",
       "    <tr>\n",
       "      <th>IBM</th>\n",
       "      <td>2020-06-12</td>\n",
       "      <td>123.120003</td>\n",
       "      <td>119.279999</td>\n",
       "      <td>121.250000</td>\n",
       "      <td>121.910004</td>\n",
       "      <td>6218100.0</td>\n",
       "      <td>121.910004</td>\n",
       "    </tr>\n",
       "  </tbody>\n",
       "</table>\n",
       "</div>"
      ],
      "text/plain": [
       "              date        high         low        open       close     volume  \\\n",
       "symbol                                                                          \n",
       "IBM     2020-06-18  124.400002  122.330002  123.000000  124.160004  2861200.0   \n",
       "IBM     2020-06-17  126.250000  123.400002  125.830002  124.150002  3154200.0   \n",
       "IBM     2020-06-16  127.500000  123.160004  125.000000  125.150002  5606700.0   \n",
       "IBM     2020-06-15  122.370003  118.290001  119.190002  121.650002  5149100.0   \n",
       "IBM     2020-06-12  123.120003  119.279999  121.250000  121.910004  6218100.0   \n",
       "\n",
       "          adjclose  \n",
       "symbol              \n",
       "IBM     124.160004  \n",
       "IBM     124.150002  \n",
       "IBM     125.150002  \n",
       "IBM     121.650002  \n",
       "IBM     121.910004  "
      ]
     },
     "execution_count": 42,
     "metadata": {},
     "output_type": "execute_result"
    }
   ],
   "source": [
    "df.head()"
   ]
  },
  {
   "cell_type": "code",
   "execution_count": 20,
   "metadata": {},
   "outputs": [
    {
     "data": {
      "text/html": [
       "<div>\n",
       "<style scoped>\n",
       "    .dataframe tbody tr th:only-of-type {\n",
       "        vertical-align: middle;\n",
       "    }\n",
       "\n",
       "    .dataframe tbody tr th {\n",
       "        vertical-align: top;\n",
       "    }\n",
       "\n",
       "    .dataframe thead th {\n",
       "        text-align: right;\n",
       "    }\n",
       "</style>\n",
       "<table border=\"1\" class=\"dataframe\">\n",
       "  <thead>\n",
       "    <tr style=\"text-align: right;\">\n",
       "      <th></th>\n",
       "      <th>date</th>\n",
       "      <th>high</th>\n",
       "      <th>low</th>\n",
       "      <th>open</th>\n",
       "      <th>close</th>\n",
       "      <th>volume</th>\n",
       "      <th>adjclose</th>\n",
       "    </tr>\n",
       "    <tr>\n",
       "      <th>symbol</th>\n",
       "      <th></th>\n",
       "      <th></th>\n",
       "      <th></th>\n",
       "      <th></th>\n",
       "      <th></th>\n",
       "      <th></th>\n",
       "      <th></th>\n",
       "    </tr>\n",
       "  </thead>\n",
       "  <tbody>\n",
       "    <tr>\n",
       "      <th>IBM</th>\n",
       "      <td>2010-01-08</td>\n",
       "      <td>130.919998</td>\n",
       "      <td>129.050003</td>\n",
       "      <td>129.070007</td>\n",
       "      <td>130.850006</td>\n",
       "      <td>4197200.0</td>\n",
       "      <td>93.580284</td>\n",
       "    </tr>\n",
       "    <tr>\n",
       "      <th>IBM</th>\n",
       "      <td>2010-01-07</td>\n",
       "      <td>130.250000</td>\n",
       "      <td>128.910004</td>\n",
       "      <td>129.869995</td>\n",
       "      <td>129.550003</td>\n",
       "      <td>5840600.0</td>\n",
       "      <td>92.650536</td>\n",
       "    </tr>\n",
       "    <tr>\n",
       "      <th>IBM</th>\n",
       "      <td>2010-01-06</td>\n",
       "      <td>131.490005</td>\n",
       "      <td>129.809998</td>\n",
       "      <td>130.679993</td>\n",
       "      <td>130.000000</td>\n",
       "      <td>5605300.0</td>\n",
       "      <td>92.972382</td>\n",
       "    </tr>\n",
       "    <tr>\n",
       "      <th>IBM</th>\n",
       "      <td>2010-01-05</td>\n",
       "      <td>131.850006</td>\n",
       "      <td>130.100006</td>\n",
       "      <td>131.679993</td>\n",
       "      <td>130.850006</td>\n",
       "      <td>6841400.0</td>\n",
       "      <td>93.580284</td>\n",
       "    </tr>\n",
       "    <tr>\n",
       "      <th>IBM</th>\n",
       "      <td>2010-01-04</td>\n",
       "      <td>132.970001</td>\n",
       "      <td>130.850006</td>\n",
       "      <td>131.179993</td>\n",
       "      <td>132.449997</td>\n",
       "      <td>6155300.0</td>\n",
       "      <td>94.724556</td>\n",
       "    </tr>\n",
       "  </tbody>\n",
       "</table>\n",
       "</div>"
      ],
      "text/plain": [
       "              date        high         low        open       close     volume  \\\n",
       "symbol                                                                          \n",
       "IBM     2010-01-08  130.919998  129.050003  129.070007  130.850006  4197200.0   \n",
       "IBM     2010-01-07  130.250000  128.910004  129.869995  129.550003  5840600.0   \n",
       "IBM     2010-01-06  131.490005  129.809998  130.679993  130.000000  5605300.0   \n",
       "IBM     2010-01-05  131.850006  130.100006  131.679993  130.850006  6841400.0   \n",
       "IBM     2010-01-04  132.970001  130.850006  131.179993  132.449997  6155300.0   \n",
       "\n",
       "         adjclose  \n",
       "symbol             \n",
       "IBM     93.580284  \n",
       "IBM     92.650536  \n",
       "IBM     92.972382  \n",
       "IBM     93.580284  \n",
       "IBM     94.724556  "
      ]
     },
     "execution_count": 20,
     "metadata": {},
     "output_type": "execute_result"
    }
   ],
   "source": [
    "df.tail()"
   ]
  },
  {
   "cell_type": "code",
   "execution_count": 26,
   "metadata": {},
   "outputs": [
    {
     "data": {
      "text/plain": [
       "<matplotlib.axes._subplots.AxesSubplot at 0x116528790>"
      ]
     },
     "execution_count": 26,
     "metadata": {},
     "output_type": "execute_result"
    },
    {
     "data": {
      "image/png": "[encoded data removed]",
      "text/plain": [
       "<Figure size 864x288 with 1 Axes>"
      ]
     },
     "metadata": {
      "needs_background": "light"
     },
     "output_type": "display_data"
    }
   ],
   "source": [
    "df.plot.scatter('date','open',figsize=(12,4))"
   ]
  },
  {
   "cell_type": "code",
   "execution_count": null,
   "metadata": {},
   "outputs": [],
   "source": []
  }
 ],
 "metadata": {
  "kernelspec": {
   "display_name": "Python 3",
   "language": "python",
   "name": "python3"
  },
  "language_info": {
   "codemirror_mode": {
    "name": "ipython",
    "version": 3
   },
   "file_extension": ".py",
   "mimetype": "text/x-python",
   "name": "python",
   "nbconvert_exporter": "python",
   "pygments_lexer": "ipython3",
   "version": "3.7.6"
  }
 },
 "nbformat": 4,
 "nbformat_minor": 4
}
